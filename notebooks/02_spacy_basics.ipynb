{
 "cells": [
  {
   "cell_type": "code",
   "execution_count": 1,
   "id": "1874c21a",
   "metadata": {},
   "outputs": [
    {
     "name": "stdout",
     "output_type": "stream",
     "text": [
      "/Users/yaskhanloo/Developer/nlp-stroke/nlp-stroke/.venv/bin/python\n"
     ]
    }
   ],
   "source": [
    "!which python"
   ]
  },
  {
   "cell_type": "code",
   "execution_count": 2,
   "id": "a994d1a4",
   "metadata": {},
   "outputs": [
    {
     "name": "stdout",
     "output_type": "stream",
     "text": [
      "Requirement already satisfied: pip in /Users/yaskhanloo/Developer/nlp-stroke/nlp-stroke/.venv/lib/python3.9/site-packages (25.1.1)\n",
      "Requirement already satisfied: spacy in /Users/yaskhanloo/Developer/nlp-stroke/nlp-stroke/.venv/lib/python3.9/site-packages (3.8.6)\n",
      "Requirement already satisfied: spacy-legacy<3.1.0,>=3.0.11 in /Users/yaskhanloo/Developer/nlp-stroke/nlp-stroke/.venv/lib/python3.9/site-packages (from spacy) (3.0.12)\n",
      "Requirement already satisfied: spacy-loggers<2.0.0,>=1.0.0 in /Users/yaskhanloo/Developer/nlp-stroke/nlp-stroke/.venv/lib/python3.9/site-packages (from spacy) (1.0.5)\n",
      "Requirement already satisfied: murmurhash<1.1.0,>=0.28.0 in /Users/yaskhanloo/Developer/nlp-stroke/nlp-stroke/.venv/lib/python3.9/site-packages (from spacy) (1.0.12)\n",
      "Requirement already satisfied: cymem<2.1.0,>=2.0.2 in /Users/yaskhanloo/Developer/nlp-stroke/nlp-stroke/.venv/lib/python3.9/site-packages (from spacy) (2.0.11)\n",
      "Requirement already satisfied: preshed<3.1.0,>=3.0.2 in /Users/yaskhanloo/Developer/nlp-stroke/nlp-stroke/.venv/lib/python3.9/site-packages (from spacy) (3.0.9)\n",
      "Requirement already satisfied: thinc<8.4.0,>=8.3.4 in /Users/yaskhanloo/Developer/nlp-stroke/nlp-stroke/.venv/lib/python3.9/site-packages (from spacy) (8.3.6)\n",
      "Requirement already satisfied: wasabi<1.2.0,>=0.9.1 in /Users/yaskhanloo/Developer/nlp-stroke/nlp-stroke/.venv/lib/python3.9/site-packages (from spacy) (1.1.3)\n",
      "Requirement already satisfied: srsly<3.0.0,>=2.4.3 in /Users/yaskhanloo/Developer/nlp-stroke/nlp-stroke/.venv/lib/python3.9/site-packages (from spacy) (2.5.1)\n",
      "Requirement already satisfied: catalogue<2.1.0,>=2.0.6 in /Users/yaskhanloo/Developer/nlp-stroke/nlp-stroke/.venv/lib/python3.9/site-packages (from spacy) (2.0.10)\n",
      "Requirement already satisfied: weasel<0.5.0,>=0.1.0 in /Users/yaskhanloo/Developer/nlp-stroke/nlp-stroke/.venv/lib/python3.9/site-packages (from spacy) (0.4.1)\n",
      "Requirement already satisfied: typer<1.0.0,>=0.3.0 in /Users/yaskhanloo/Developer/nlp-stroke/nlp-stroke/.venv/lib/python3.9/site-packages (from spacy) (0.15.4)\n",
      "Requirement already satisfied: tqdm<5.0.0,>=4.38.0 in /Users/yaskhanloo/Developer/nlp-stroke/nlp-stroke/.venv/lib/python3.9/site-packages (from spacy) (4.67.1)\n",
      "Requirement already satisfied: numpy>=1.19.0 in /Users/yaskhanloo/Developer/nlp-stroke/nlp-stroke/.venv/lib/python3.9/site-packages (from spacy) (2.0.2)\n",
      "Requirement already satisfied: requests<3.0.0,>=2.13.0 in /Users/yaskhanloo/Developer/nlp-stroke/nlp-stroke/.venv/lib/python3.9/site-packages (from spacy) (2.32.3)\n",
      "Requirement already satisfied: pydantic!=1.8,!=1.8.1,<3.0.0,>=1.7.4 in /Users/yaskhanloo/Developer/nlp-stroke/nlp-stroke/.venv/lib/python3.9/site-packages (from spacy) (2.11.4)\n",
      "Requirement already satisfied: jinja2 in /Users/yaskhanloo/Developer/nlp-stroke/nlp-stroke/.venv/lib/python3.9/site-packages (from spacy) (3.1.6)\n",
      "Requirement already satisfied: setuptools in /Users/yaskhanloo/Developer/nlp-stroke/nlp-stroke/.venv/lib/python3.9/site-packages (from spacy) (58.0.4)\n",
      "Requirement already satisfied: packaging>=20.0 in /Users/yaskhanloo/Developer/nlp-stroke/nlp-stroke/.venv/lib/python3.9/site-packages (from spacy) (25.0)\n",
      "Requirement already satisfied: langcodes<4.0.0,>=3.2.0 in /Users/yaskhanloo/Developer/nlp-stroke/nlp-stroke/.venv/lib/python3.9/site-packages (from spacy) (3.5.0)\n",
      "Requirement already satisfied: language-data>=1.2 in /Users/yaskhanloo/Developer/nlp-stroke/nlp-stroke/.venv/lib/python3.9/site-packages (from langcodes<4.0.0,>=3.2.0->spacy) (1.3.0)\n",
      "Requirement already satisfied: annotated-types>=0.6.0 in /Users/yaskhanloo/Developer/nlp-stroke/nlp-stroke/.venv/lib/python3.9/site-packages (from pydantic!=1.8,!=1.8.1,<3.0.0,>=1.7.4->spacy) (0.7.0)\n",
      "Requirement already satisfied: pydantic-core==2.33.2 in /Users/yaskhanloo/Developer/nlp-stroke/nlp-stroke/.venv/lib/python3.9/site-packages (from pydantic!=1.8,!=1.8.1,<3.0.0,>=1.7.4->spacy) (2.33.2)\n",
      "Requirement already satisfied: typing-extensions>=4.12.2 in /Users/yaskhanloo/Developer/nlp-stroke/nlp-stroke/.venv/lib/python3.9/site-packages (from pydantic!=1.8,!=1.8.1,<3.0.0,>=1.7.4->spacy) (4.13.2)\n",
      "Requirement already satisfied: typing-inspection>=0.4.0 in /Users/yaskhanloo/Developer/nlp-stroke/nlp-stroke/.venv/lib/python3.9/site-packages (from pydantic!=1.8,!=1.8.1,<3.0.0,>=1.7.4->spacy) (0.4.0)\n",
      "Requirement already satisfied: charset-normalizer<4,>=2 in /Users/yaskhanloo/Developer/nlp-stroke/nlp-stroke/.venv/lib/python3.9/site-packages (from requests<3.0.0,>=2.13.0->spacy) (3.4.2)\n",
      "Requirement already satisfied: idna<4,>=2.5 in /Users/yaskhanloo/Developer/nlp-stroke/nlp-stroke/.venv/lib/python3.9/site-packages (from requests<3.0.0,>=2.13.0->spacy) (3.10)\n",
      "Requirement already satisfied: urllib3<3,>=1.21.1 in /Users/yaskhanloo/Developer/nlp-stroke/nlp-stroke/.venv/lib/python3.9/site-packages (from requests<3.0.0,>=2.13.0->spacy) (2.4.0)\n",
      "Requirement already satisfied: certifi>=2017.4.17 in /Users/yaskhanloo/Developer/nlp-stroke/nlp-stroke/.venv/lib/python3.9/site-packages (from requests<3.0.0,>=2.13.0->spacy) (2025.4.26)\n",
      "Requirement already satisfied: blis<1.4.0,>=1.3.0 in /Users/yaskhanloo/Developer/nlp-stroke/nlp-stroke/.venv/lib/python3.9/site-packages (from thinc<8.4.0,>=8.3.4->spacy) (1.3.0)\n",
      "Requirement already satisfied: confection<1.0.0,>=0.0.1 in /Users/yaskhanloo/Developer/nlp-stroke/nlp-stroke/.venv/lib/python3.9/site-packages (from thinc<8.4.0,>=8.3.4->spacy) (0.1.5)\n",
      "Requirement already satisfied: click<8.2,>=8.0.0 in /Users/yaskhanloo/Developer/nlp-stroke/nlp-stroke/.venv/lib/python3.9/site-packages (from typer<1.0.0,>=0.3.0->spacy) (8.1.8)\n",
      "Requirement already satisfied: shellingham>=1.3.0 in /Users/yaskhanloo/Developer/nlp-stroke/nlp-stroke/.venv/lib/python3.9/site-packages (from typer<1.0.0,>=0.3.0->spacy) (1.5.4)\n",
      "Requirement already satisfied: rich>=10.11.0 in /Users/yaskhanloo/Developer/nlp-stroke/nlp-stroke/.venv/lib/python3.9/site-packages (from typer<1.0.0,>=0.3.0->spacy) (14.0.0)\n",
      "Requirement already satisfied: cloudpathlib<1.0.0,>=0.7.0 in /Users/yaskhanloo/Developer/nlp-stroke/nlp-stroke/.venv/lib/python3.9/site-packages (from weasel<0.5.0,>=0.1.0->spacy) (0.21.1)\n",
      "Requirement already satisfied: smart-open<8.0.0,>=5.2.1 in /Users/yaskhanloo/Developer/nlp-stroke/nlp-stroke/.venv/lib/python3.9/site-packages (from weasel<0.5.0,>=0.1.0->spacy) (7.1.0)\n",
      "Requirement already satisfied: wrapt in /Users/yaskhanloo/Developer/nlp-stroke/nlp-stroke/.venv/lib/python3.9/site-packages (from smart-open<8.0.0,>=5.2.1->weasel<0.5.0,>=0.1.0->spacy) (1.17.2)\n",
      "Requirement already satisfied: marisa-trie>=1.1.0 in /Users/yaskhanloo/Developer/nlp-stroke/nlp-stroke/.venv/lib/python3.9/site-packages (from language-data>=1.2->langcodes<4.0.0,>=3.2.0->spacy) (1.2.1)\n",
      "Requirement already satisfied: markdown-it-py>=2.2.0 in /Users/yaskhanloo/Developer/nlp-stroke/nlp-stroke/.venv/lib/python3.9/site-packages (from rich>=10.11.0->typer<1.0.0,>=0.3.0->spacy) (3.0.0)\n",
      "Requirement already satisfied: pygments<3.0.0,>=2.13.0 in /Users/yaskhanloo/Developer/nlp-stroke/nlp-stroke/.venv/lib/python3.9/site-packages (from rich>=10.11.0->typer<1.0.0,>=0.3.0->spacy) (2.19.1)\n",
      "Requirement already satisfied: mdurl~=0.1 in /Users/yaskhanloo/Developer/nlp-stroke/nlp-stroke/.venv/lib/python3.9/site-packages (from markdown-it-py>=2.2.0->rich>=10.11.0->typer<1.0.0,>=0.3.0->spacy) (0.1.2)\n",
      "Requirement already satisfied: MarkupSafe>=2.0 in /Users/yaskhanloo/Developer/nlp-stroke/nlp-stroke/.venv/lib/python3.9/site-packages (from jinja2->spacy) (3.0.2)\n"
     ]
    }
   ],
   "source": [
    "!pip install --upgrade pip\n",
    "!pip install spacy"
   ]
  },
  {
   "cell_type": "code",
   "execution_count": 5,
   "id": "c8c365dc",
   "metadata": {},
   "outputs": [
    {
     "name": "stdout",
     "output_type": "stream",
     "text": [
      "/Users/yaskhanloo/Developer/nlp-stroke/nlp-stroke/.venv/lib/python3.9/site-packages/urllib3/__init__.py:35: NotOpenSSLWarning: urllib3 v2 only supports OpenSSL 1.1.1+, currently the 'ssl' module is compiled with 'LibreSSL 2.8.3'. See: https://github.com/urllib3/urllib3/issues/3020\n",
      "  warnings.warn(\n",
      "Collecting en-core-web-sm==3.8.0\n",
      "  Downloading https://github.com/explosion/spacy-models/releases/download/en_core_web_sm-3.8.0/en_core_web_sm-3.8.0-py3-none-any.whl (12.8 MB)\n",
      "\u001b[2K     \u001b[38;2;114;156;31m━━━━━━━━━━━━━━━━━━━━━━━━━━━━━━━━━━━━━━━━\u001b[0m \u001b[32m12.8/12.8 MB\u001b[0m \u001b[31m50.8 MB/s\u001b[0m eta \u001b[36m0:00:00\u001b[0mMB/s\u001b[0m eta \u001b[36m0:00:01\u001b[0m\n",
      "\u001b[?25hInstalling collected packages: en-core-web-sm\n",
      "Successfully installed en-core-web-sm-3.8.0\n",
      "\u001b[38;5;2m✔ Download and installation successful\u001b[0m\n",
      "You can now load the package via spacy.load('en_core_web_sm')\n"
     ]
    }
   ],
   "source": [
    "!python -m spacy download en_core_web_sm"
   ]
  },
  {
   "cell_type": "code",
   "execution_count": 6,
   "id": "194b2cf8",
   "metadata": {},
   "outputs": [],
   "source": [
    "import spacy"
   ]
  },
  {
   "cell_type": "code",
   "execution_count": 7,
   "id": "e8a49170",
   "metadata": {},
   "outputs": [
    {
     "name": "stdout",
     "output_type": "stream",
     "text": [
      "🧩 Token Details:\n",
      "The             | POS: DET        | Dep: det             | Lemma: the\n",
      "patient         | POS: NOUN       | Dep: nsubj           | Lemma: patient\n",
      "had             | POS: VERB       | Dep: ROOT            | Lemma: have\n",
      "a               | POS: DET        | Dep: det             | Lemma: a\n",
      "right           | POS: ADV        | Dep: advmod          | Lemma: right\n",
      "-               | POS: PUNCT      | Dep: punct           | Lemma: -\n",
      "sided           | POS: ADJ        | Dep: amod            | Lemma: sided\n",
      "ischemic        | POS: ADJ        | Dep: amod            | Lemma: ischemic\n",
      "stroke          | POS: NOUN       | Dep: dobj            | Lemma: stroke\n",
      "with            | POS: ADP        | Dep: prep            | Lemma: with\n",
      "an              | POS: DET        | Dep: det             | Lemma: an\n",
      "NIHSS           | POS: ADJ        | Dep: amod            | Lemma: nihss\n",
      "score           | POS: NOUN       | Dep: pobj            | Lemma: score\n",
      "of              | POS: ADP        | Dep: prep            | Lemma: of\n",
      "8               | POS: NUM        | Dep: pobj            | Lemma: 8\n",
      "and             | POS: CCONJ      | Dep: cc              | Lemma: and\n",
      "was             | POS: AUX        | Dep: auxpass         | Lemma: be\n",
      "treated         | POS: VERB       | Dep: conj            | Lemma: treat\n",
      "with            | POS: ADP        | Dep: prep            | Lemma: with\n",
      "aspirin         | POS: NOUN       | Dep: pobj            | Lemma: aspirin\n",
      ".               | POS: PUNCT      | Dep: punct           | Lemma: .\n",
      "\n",
      "🏷️ Named Entities:\n",
      "NIHSS                          | Label: ORG\n",
      "8                              | Label: CARDINAL\n"
     ]
    }
   ],
   "source": [
    "# Load spaCy's small English model\n",
    "nlp = spacy.load(\"en_core_web_sm\")\n",
    "\n",
    "# Clinical-style sentence\n",
    "text = \"The patient had a right-sided ischemic stroke with an NIHSS score of 8 and was treated with aspirin.\"\n",
    "\n",
    "# Process the text\n",
    "doc = nlp(text)\n",
    "\n",
    "# Tokenization, POS tagging, dependency parsing\n",
    "print(\"🧩 Token Details:\")\n",
    "for token in doc:\n",
    "    print(f\"{token.text:<15} | POS: {token.pos_:<10} | Dep: {token.dep_:<15} | Lemma: {token.lemma_}\")\n",
    "\n",
    "# Named Entity Recognition\n",
    "print(\"\\n🏷️ Named Entities:\")\n",
    "for ent in doc.ents:\n",
    "    print(f\"{ent.text:<30} | Label: {ent.label_}\")"
   ]
  },
  {
   "cell_type": "code",
   "execution_count": 8,
   "id": "2d588328",
   "metadata": {},
   "outputs": [
    {
     "name": "stdout",
     "output_type": "stream",
     "text": [
      "🔎 STROKE_SIDE  | left-sided ischemic stroke\n",
      "🔎 NIHSS_SCORE  | NIHSS score of 7\n",
      "🔎 MEDICATION   | aspirin\n",
      "\n",
      "🧾 Extracted Data:\n",
      "{'stroke_side': 'left-sided ischemic stroke', 'nihss': 7, 'medications': ['aspirin']}\n"
     ]
    }
   ],
   "source": [
    "from spacy.matcher import Matcher\n",
    "\n",
    "# Load model\n",
    "nlp = spacy.load(\"en_core_web_sm\")\n",
    "matcher = Matcher(nlp.vocab)\n",
    "\n",
    "# Example clinical note\n",
    "text = \"The patient had a left-sided ischemic stroke with an NIHSS score of 7 and received aspirin.\"\n",
    "\n",
    "doc = nlp(text)\n",
    "\n",
    "# --- Add pattern for NIHSS score ---\n",
    "pattern_nihss = [\n",
    "    {\"LOWER\": \"nihss\"},\n",
    "    {\"LOWER\": \"score\"},\n",
    "    {\"LOWER\": \"of\"},\n",
    "    {\"LIKE_NUM\": True}\n",
    "]\n",
    "matcher.add(\"NIHSS_SCORE\", [pattern_nihss])\n",
    "\n",
    "# --- Add pattern for stroke side ---\n",
    "# Fix: Define pattern properly within the matcher.add call\n",
    "matcher.add(\"STROKE_SIDE\", [\n",
    "    [\n",
    "        {\"LOWER\": \"left\"},\n",
    "        {\"ORTH\": \"-\", \"OP\": \"?\"},  # Optional hyphen\n",
    "        {\"LOWER\": \"sided\", \"OP\": \"?\"},  # Optional \"sided\"\n",
    "        {\"IS_ALPHA\": True, \"OP\": \"*\"},\n",
    "        {\"LOWER\": \"stroke\"}\n",
    "    ],\n",
    "    [\n",
    "        {\"LOWER\": \"right\"},\n",
    "        {\"ORTH\": \"-\", \"OP\": \"?\"},  # Optional hyphen\n",
    "        {\"LOWER\": \"sided\", \"OP\": \"?\"},  # Optional \"sided\"\n",
    "        {\"IS_ALPHA\": True, \"OP\": \"*\"},\n",
    "        {\"LOWER\": \"stroke\"}\n",
    "    ],\n",
    "    [\n",
    "        {\"LOWER\": {\"IN\": [\"left\", \"right\"]}},\n",
    "        {\"LOWER\": \"hemisphere\"}\n",
    "    ]\n",
    "])\n",
    "\n",
    "# --- Add pattern for medication names ---\n",
    "pattern_medications = [\n",
    "    {\"LOWER\": {\"IN\": [\"aspirin\", \"clopidogrel\", \"alteplase\"]}}\n",
    "]\n",
    "matcher.add(\"MEDICATION\", [pattern_medications])\n",
    "\n",
    "# --- Apply matcher ---\n",
    "matches = matcher(doc)\n",
    "\n",
    "for match_id, start, end in matches:\n",
    "    span = doc[start:end]\n",
    "    print(f\"🔎 {nlp.vocab.strings[match_id]:<12} | {span.text}\")\n",
    "    \n",
    "# ---- Build structured result ----\n",
    "results = {\n",
    "    \"stroke_side\": None,\n",
    "    \"nihss\": None,\n",
    "    \"medications\": []\n",
    "}\n",
    "\n",
    "for match_id, start, end in matches:\n",
    "    label = nlp.vocab.strings[match_id]\n",
    "    span = doc[start:end]\n",
    "\n",
    "    if label == \"STROKE_SIDE\" and not results[\"stroke_side\"]:\n",
    "        results[\"stroke_side\"] = span.text\n",
    "\n",
    "    elif label == \"NIHSS_SCORE\" and not results[\"nihss\"]:\n",
    "        # Extract the number (last token)\n",
    "        for token in span:\n",
    "            if token.like_num:\n",
    "                results[\"nihss\"] = int(token.text)\n",
    "\n",
    "    elif label == \"MEDICATION\":\n",
    "        med = span.text.lower()\n",
    "        if med not in results[\"medications\"]:\n",
    "            results[\"medications\"].append(med)\n",
    "\n",
    "# Print structured results\n",
    "print(\"\\n🧾 Extracted Data:\")\n",
    "print(results)"
   ]
  }
 ],
 "metadata": {
  "kernelspec": {
   "display_name": "Python (nlp-stroke)",
   "language": "python",
   "name": "nlp-stroke"
  },
  "language_info": {
   "codemirror_mode": {
    "name": "ipython",
    "version": 3
   },
   "file_extension": ".py",
   "mimetype": "text/x-python",
   "name": "python",
   "nbconvert_exporter": "python",
   "pygments_lexer": "ipython3",
   "version": "3.9.6"
  }
 },
 "nbformat": 4,
 "nbformat_minor": 5
}
